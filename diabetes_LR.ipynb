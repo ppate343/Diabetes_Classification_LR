{
 "cells": [
  {
   "cell_type": "markdown",
   "metadata": {},
   "source": [
    "# Diabetes Classification with Logistic Regression \n",
    "\n",
    "Using the `diabetes` dataset, which was collected and made available by “National Institute of Diabetes and Digestive and Kidney Diseases” as part of the Pima Indians Diabetes Database to predict whether subjects have diabetes or not with logistic regression"
   ]
  },
  {
   "cell_type": "markdown",
   "metadata": {},
   "source": [
    "## Global Toolbox"
   ]
  },
  {
   "cell_type": "code",
   "execution_count": 1,
   "metadata": {},
   "outputs": [],
   "source": [
    "import pandas as pd\n",
    "import seaborn as sns\n",
    "import numpy as np\n",
    "from sklearn.model_selection import train_test_split, cross_val_score\n",
    "from sklearn.linear_model import LogisticRegression\n",
    "from sklearn.metrics import roc_curve, precision_recall_curve, auc, balanced_accuracy_score\n",
    "import matplotlib.pyplot as plt\n",
    "from sklearn.linear_model import SGDClassifier\n",
    "from sklearn.datasets import fetch_openml \n",
    "seed=0"
   ]
  },
  {
   "cell_type": "code",
   "execution_count": 2,
   "metadata": {
    "scrolled": true
   },
   "outputs": [
    {
     "data": {
      "text/html": [
       "<div>\n",
       "<style scoped>\n",
       "    .dataframe tbody tr th:only-of-type {\n",
       "        vertical-align: middle;\n",
       "    }\n",
       "\n",
       "    .dataframe tbody tr th {\n",
       "        vertical-align: top;\n",
       "    }\n",
       "\n",
       "    .dataframe thead th {\n",
       "        text-align: right;\n",
       "    }\n",
       "</style>\n",
       "<table border=\"1\" class=\"dataframe\">\n",
       "  <thead>\n",
       "    <tr style=\"text-align: right;\">\n",
       "      <th></th>\n",
       "      <th>Pregnancies</th>\n",
       "      <th>Glucose</th>\n",
       "      <th>BloodPressure</th>\n",
       "      <th>SkinThickness</th>\n",
       "      <th>Insulin</th>\n",
       "      <th>BMI</th>\n",
       "      <th>DiabetesPedigreeFunction</th>\n",
       "      <th>Age</th>\n",
       "      <th>Outcome</th>\n",
       "    </tr>\n",
       "  </thead>\n",
       "  <tbody>\n",
       "    <tr>\n",
       "      <th>0</th>\n",
       "      <td>6</td>\n",
       "      <td>148</td>\n",
       "      <td>72</td>\n",
       "      <td>35</td>\n",
       "      <td>0</td>\n",
       "      <td>33.6</td>\n",
       "      <td>0.627</td>\n",
       "      <td>50</td>\n",
       "      <td>1</td>\n",
       "    </tr>\n",
       "    <tr>\n",
       "      <th>1</th>\n",
       "      <td>1</td>\n",
       "      <td>85</td>\n",
       "      <td>66</td>\n",
       "      <td>29</td>\n",
       "      <td>0</td>\n",
       "      <td>26.6</td>\n",
       "      <td>0.351</td>\n",
       "      <td>31</td>\n",
       "      <td>0</td>\n",
       "    </tr>\n",
       "    <tr>\n",
       "      <th>2</th>\n",
       "      <td>8</td>\n",
       "      <td>183</td>\n",
       "      <td>64</td>\n",
       "      <td>0</td>\n",
       "      <td>0</td>\n",
       "      <td>23.3</td>\n",
       "      <td>0.672</td>\n",
       "      <td>32</td>\n",
       "      <td>1</td>\n",
       "    </tr>\n",
       "    <tr>\n",
       "      <th>3</th>\n",
       "      <td>1</td>\n",
       "      <td>89</td>\n",
       "      <td>66</td>\n",
       "      <td>23</td>\n",
       "      <td>94</td>\n",
       "      <td>28.1</td>\n",
       "      <td>0.167</td>\n",
       "      <td>21</td>\n",
       "      <td>0</td>\n",
       "    </tr>\n",
       "    <tr>\n",
       "      <th>4</th>\n",
       "      <td>0</td>\n",
       "      <td>137</td>\n",
       "      <td>40</td>\n",
       "      <td>35</td>\n",
       "      <td>168</td>\n",
       "      <td>43.1</td>\n",
       "      <td>2.288</td>\n",
       "      <td>33</td>\n",
       "      <td>1</td>\n",
       "    </tr>\n",
       "  </tbody>\n",
       "</table>\n",
       "</div>"
      ],
      "text/plain": [
       "   Pregnancies  Glucose  BloodPressure  SkinThickness  Insulin   BMI  \\\n",
       "0            6      148             72             35        0  33.6   \n",
       "1            1       85             66             29        0  26.6   \n",
       "2            8      183             64              0        0  23.3   \n",
       "3            1       89             66             23       94  28.1   \n",
       "4            0      137             40             35      168  43.1   \n",
       "\n",
       "   DiabetesPedigreeFunction  Age  Outcome  \n",
       "0                     0.627   50        1  \n",
       "1                     0.351   31        0  \n",
       "2                     0.672   32        1  \n",
       "3                     0.167   21        0  \n",
       "4                     2.288   33        1  "
      ]
     },
     "execution_count": 2,
     "metadata": {},
     "output_type": "execute_result"
    }
   ],
   "source": [
    "# ****** your code here ******\n",
    "df = pd.read_csv(\"diabetes.csv\")\n",
    "df.head(n=5)"
   ]
  },
  {
   "cell_type": "markdown",
   "metadata": {},
   "source": [
    "**Your answer**: There are two classes 0 and 1. There are 8 features to predict the outcome. "
   ]
  },
  {
   "cell_type": "markdown",
   "metadata": {},
   "source": [
    "(2) Is the dataset class-balanced?"
   ]
  },
  {
   "cell_type": "code",
   "execution_count": 3,
   "metadata": {},
   "outputs": [
    {
     "data": {
      "text/plain": [
       "Outcome\n",
       "0    500\n",
       "1    268\n",
       "Name: count, dtype: int64"
      ]
     },
     "execution_count": 3,
     "metadata": {},
     "output_type": "execute_result"
    }
   ],
   "source": [
    "# ****** your code here ******\n",
    "df.Outcome.value_counts()"
   ]
  },
  {
   "cell_type": "markdown",
   "metadata": {},
   "source": [
    "**Your answer**: This dataset is not class balanced. There are more outcomes for 0 than 1. "
   ]
  },
  {
   "cell_type": "markdown",
   "metadata": {},
   "source": [
    "(3) For this classification problem, what is the baseline accuracy and how would you interpret it? Round into 3 decimal place."
   ]
  },
  {
   "cell_type": "code",
   "execution_count": 4,
   "metadata": {},
   "outputs": [
    {
     "name": "stdout",
     "output_type": "stream",
     "text": [
      "Baseline Accuracy is: 0.651\n"
     ]
    }
   ],
   "source": [
    "# ****** your code here ******\n",
    "baseline_accuracy = 500 / (500 + 268)\n",
    "print(\"Baseline Accuracy is:\", round(baseline_accuracy, 3))"
   ]
  },
  {
   "cell_type": "code",
   "execution_count": 5,
   "metadata": {},
   "outputs": [],
   "source": [
    "\n",
    "X = df.drop('Outcome', axis = 'columns').values\n",
    "\n",
    "\n",
    "y = df.Outcome.values\n",
    "\n",
    "\n",
    "Xtrain, Xtest, ytrain, ytest = train_test_split(X, y, test_size = 0.2,  random_state = 0)"
   ]
  },
  {
   "cell_type": "markdown",
   "metadata": {},
   "source": [
    "\n",
    "(1) Does `LogisticRegression` use a penalty by default?  If yes, what penalty?\n",
    "\n",
    "**Your answer**: \n",
    "Yes it uses a penalty by default. It uses L2 regularization. \n",
    "\n",
    "    \n",
    "(2) If we apply a penalty during learning, what difference do you expect to see in the resulting coefficients (parameters), relative to not applying a penalty during learning?\n",
    "\n",
    "**Your answer**: \n",
    "\n",
    "With no penalty being applied, the coefficients are based purely on minimizing the residual sum of squares. \n",
    "Relative to no penality, the resulting coefficients are affected depending on the penalty chosen. L2 results in smaller coefficients due to them being more evenly distributed and avoiding large outliers. L1 forces certain coefficients to be 0, removing less important features from the model. Elastic combines both L1 and L2 resulting in sparse and smaller coefficients. \n",
    "\n",
    "\n",
    "(3) If using the default settings of `LogisticRegression`, do you need to include a column of 1s in your feature/design matrix? Briefly explain why or why not.\n",
    "\n",
    "**Your answer**: No, by default the fit_intercept attribute is set to True. Meaning that the LogisticRegression model includes an intercept term. The model will automatially include the intercept term (column of 1s) in the feature matrix. "
   ]
  },
  {
   "cell_type": "code",
   "execution_count": 6,
   "metadata": {},
   "outputs": [
    {
     "name": "stdout",
     "output_type": "stream",
     "text": [
      "Intercept (b): [-0.75122578]\n",
      "Coefficients: [[0.00206725]]\n"
     ]
    },
    {
     "data": {
      "image/png": "[encoded data removed]",
      "text/plain": [
       "<Figure size 640x480 with 1 Axes>"
      ]
     },
     "metadata": {},
     "output_type": "display_data"
    }
   ],
   "source": [
    "\n",
    "dfLR = LogisticRegression(penalty=None)\n",
    "\n",
    "\n",
    "insulin = X[:, 4].reshape(-1,1)\n",
    "X_train, X_test, y_train, y_test = train_test_split(insulin, y, test_size=0.2, random_state=0)\n",
    "\n",
    "\n",
    "dflr = dfLR.fit(X_train, y_train)\n",
    "bInt = dflr.intercept_\n",
    "coef = dflr.coef_\n",
    "\n",
    "print(\"Intercept (b):\", bInt)\n",
    "print(\"Coefficients:\", coef)\n",
    "\n",
    "\n",
    "plt.scatter(X_test, y_test, color='blue', label='Test Data')\n",
    "plt.xlabel('Insulin')\n",
    "plt.ylabel('Outcome')\n",
    "\n",
    "X_range = np.linspace(min(X_train), max(X_train), num=len(X_test)).reshape(-1, 1)\n",
    "y_pred1 = dflr.predict(X_range)\n",
    "\n",
    "\n",
    "sns.lineplot(x=X_range.flatten(), y=y_pred1, color='red', label='Predicted Line')\n",
    "plt.legend()\n",
    "plt.show()"
   ]
  },
  {
   "cell_type": "code",
   "execution_count": 7,
   "metadata": {},
   "outputs": [
    {
     "name": "stdout",
     "output_type": "stream",
     "text": [
      "tp: 23 tn: 42 fp: 65 fn: 24\n",
      "Accuracy: 0.422 Recall: 0.489 Precision: 0.261 Sensitivity: 0.489 Specificity: 0.393\n"
     ]
    }
   ],
   "source": [
    "\n",
    "\n",
    "def compute_performance (yhat, y, classes): \n",
    "\n",
    "# Ensure yhat and y have the same shape\n",
    "    if yhat.shape != y.shape:\n",
    "        raise ValueError(\"Shapes of yhat and y do not match\")\n",
    "        \n",
    "    \n",
    "    tp = sum(np.logical_and(yhat == classes[1], y == classes[1]))  \n",
    "    tn = sum(np.logical_and(yhat == classes[0], y == classes[0]))  \n",
    "    fp = sum(np.logical_and(yhat == classes[1], y == classes[0]))  \n",
    "    fn = sum(np.logical_and(yhat == classes[0], y == classes[1]))  \n",
    "   \n",
    "    print(f\"tp: {tp} tn: {tn} fp: {fp} fn: {fn}\")\n",
    "#Accuracy \n",
    "    trainacc = (tp +tn) / (tp + tn + fp + fn) \n",
    "#Recall \n",
    "    recall = tp / (tp + fn)\n",
    "# precision \n",
    "    precision = tp / (tp + fp) \n",
    "# sensitivity \n",
    "    sensitivity = recall\n",
    "# specificity \n",
    "    specificity = tn / (fp + tn) \n",
    "    \n",
    "    print(\"Accuracy:\", round(trainacc, 3), \"Recall:\", round(recall, 3),\"Precision:\", round(precision,3), \n",
    "          \"Sensitivity:\", round(sensitivity,3), \"Specificity:\", round(specificity,3))\n",
    "\n",
    "\n",
    "compute_performance(y_pred1, ytest, dflr.classes_)\n",
    "\n",
    "\n",
    "    "
   ]
  },
  {
   "cell_type": "markdown",
   "metadata": {},
   "source": [
    "## Question 3.1 [ _ /10 marks]\n",
    "\n",
    "Create another `LogisticRegression` model with `penalty=none`. Train and test this classifier with all features and then evaluate the performance."
   ]
  },
  {
   "cell_type": "code",
   "execution_count": 8,
   "metadata": {},
   "outputs": [
    {
     "name": "stdout",
     "output_type": "stream",
     "text": [
      "tp: 29 tn: 98 fp: 9 fn: 18\n",
      "Accuracy: 0.825 Recall: 0.617 Precision: 0.763 Sensitivity: 0.617 Specificity: 0.916\n"
     ]
    }
   ],
   "source": [
    "\n",
    "X_train, X_test, y_train, y_test = train_test_split(X, y, test_size=0.2, random_state=0)\n",
    "dfLR = LogisticRegression(penalty=None, max_iter=1000)\n",
    "\n",
    "dfLR.fit(X_train, y_train)\n",
    "\n",
    "y_pred2 = dfLR.predict(X_test)\n",
    "\n",
    "compute_performance(y_pred2, ytest, dflr.classes_)"
   ]
  },
  {
   "cell_type": "markdown",
   "metadata": {},
   "source": [
    "Does using more features help to improve the classification?\n",
    "\n",
    "**Your answer** : Yes, the accuracy increases by almost 4%. The recall (tp rate) also increases measuring the true positive predictions made by the model. The precision of tp among all tp predictions increases as well. Sensitivity and specificity also both increase. "
   ]
  },
  {
   "cell_type": "code",
   "execution_count": 9,
   "metadata": {},
   "outputs": [
    {
     "name": "stdout",
     "output_type": "stream",
     "text": [
      "tp: 34 tn: 88 fp: 19 fn: 13\n",
      "Accuracy: 0.792 Recall: 0.723 Precision: 0.642 Sensitivity: 0.723 Specificity: 0.822\n"
     ]
    }
   ],
   "source": [
    "threshold = 0.4\n",
    "\n",
    "ytest_prob = dfLR.predict_proba(X_test)\n",
    "y_pred3 = dfLR.classes_[(ytest_prob[:,1]>threshold).astype(int)]\n",
    "\n",
    "compute_performance(y_pred3, ytest, dfLR.classes_)\n"
   ]
  },
  {
   "cell_type": "code",
   "execution_count": 10,
   "metadata": {},
   "outputs": [
    {
     "name": "stdout",
     "output_type": "stream",
     "text": [
      "tp: 26 tn: 100 fp: 7 fn: 21\n",
      "Accuracy: 0.818 Recall: 0.553 Precision: 0.788 Sensitivity: 0.553 Specificity: 0.935\n"
     ]
    }
   ],
   "source": [
    "\n",
    "threshold = 0.6\n",
    "y_pred4 = dfLR.classes_[(ytest_prob[:,1]>threshold).astype(int)]\n",
    "\n",
    "compute_performance(y_pred4, ytest, dfLR.classes_)"
   ]
  },
  {
   "cell_type": "markdown",
   "metadata": {},
   "source": [
    "What do you think is a better threshold? \n",
    "\n",
    "**Your answer**: I believe a threshold of 0.6 is better in this dataset because the precision is higher. I think its more important to ensure that all the cases identified as positive are more likely to be correct, as this dataset deals with diabetes and is diagnosing patients. "
   ]
  },
  {
   "cell_type": "markdown",
   "metadata": {},
   "source": [
    "## Question 3.3 [ _ /10 marks]\n",
    "\n",
    "Create a final `LogisticRegression` model with `penalty=l2`, `C=0.01`. Train and test this classifier with all features and then evaluate the performance."
   ]
  },
  {
   "cell_type": "code",
   "execution_count": 11,
   "metadata": {},
   "outputs": [
    {
     "name": "stdout",
     "output_type": "stream",
     "text": [
      "tp: 28 tn: 97 fp: 10 fn: 19\n",
      "Accuracy: 0.812 Recall: 0.596 Precision: 0.737 Sensitivity: 0.596 Specificity: 0.907\n"
     ]
    }
   ],
   "source": [
    "\n",
    "X_train, X_test, y_train, y_test = train_test_split(X, y, test_size=0.2, random_state=0)\n",
    "dfLR = LogisticRegression(penalty='l2', C = 0.01, max_iter=1000)\n",
    "\n",
    "dfLR.fit(X_train, y_train)\n",
    "\n",
    "\n",
    "y_pred5 = dfLR.predict(X_test)\n",
    "\n",
    "compute_performance(y_pred5, ytest, dfLR.classes_)\n"
   ]
  },
  {
   "cell_type": "markdown",
   "metadata": {},
   "source": [
    "Does regularization help to improve the classification?\n",
    "\n",
    "**Your answer** : Applying l2 regularization slightly improved the accuracy, precision and specificity, however, it decreased recall and sensitivity. I believe it does improve the classification since it prevents overfitting and leads to better generalization performance. "
   ]
  },
  {
   "cell_type": "code",
   "execution_count": 12,
   "metadata": {},
   "outputs": [
    {
     "data": {
      "image/png": "[encoded data removed]",
      "text/plain": [
       "<Figure size 640x480 with 1 Axes>"
      ]
     },
     "metadata": {},
     "output_type": "display_data"
    },
    {
     "name": "stdout",
     "output_type": "stream",
     "text": [
      "auc for classifier 2.2: 0.441\n",
      "auc for classifier 3.1: 0.766\n",
      "auc for classifier 3.3: 0.751\n"
     ]
    }
   ],
   "source": [
    "\n",
    "fpr1, tpr1, _ = roc_curve(ytest, y_pred1, pos_label=1)\n",
    "\n",
    "fpr2, tpr2, _= roc_curve(ytest, y_pred2, pos_label=1)\n",
    "\n",
    "fpr3, tpr3, _ = roc_curve(ytest, y_pred5, pos_label=1)\n",
    "\n",
    "plt.figure()\n",
    "plt.plot(fpr1, tpr1, color='blue', lw=2, label='Classifier 2.2')\n",
    "plt.plot(fpr2, tpr2, color='red', lw=2, label='Classifier 3.1 ')\n",
    "plt.plot(fpr3, tpr3, color='green', lw=2, label='Classifier 3.3 ')\n",
    "plt.xlabel('False Positive Rate (FPR)')\n",
    "plt.ylabel('True Positive Rate (TPR)')\n",
    "plt.title('ROC Curve')\n",
    "plt.legend(loc='lower right')\n",
    "plt.show()\n",
    "\n",
    "roc_auc1 = auc(fpr1, tpr1)\n",
    "roc_auc2 = auc(fpr2, tpr2)\n",
    "roc_auc3 = auc(fpr3, tpr3)\n",
    "\n",
    "print(\"auc for classifier 2.2:\", round(roc_auc1, 3))\n",
    "print(\"auc for classifier 3.1:\",  round(roc_auc2, 3)) \n",
    "print(\"auc for classifier 3.3:\",  round(roc_auc3, 3))"
   ]
  },
  {
   "cell_type": "markdown",
   "metadata": {},
   "source": [
    "Which one is the best classifier?\n",
    "\n",
    "**Your answer**: classifier from question 3.1 is the best classifier, it has the highest AUC. It has the greatest TPR against the FPR. "
   ]
  },
  {
   "cell_type": "code",
   "execution_count": 13,
   "metadata": {},
   "outputs": [
    {
     "data": {
      "image/png": "[encoded data removed]",
      "text/plain": [
       "<Figure size 640x480 with 1 Axes>"
      ]
     },
     "metadata": {},
     "output_type": "display_data"
    }
   ],
   "source": [
    "### your stuff\n",
    "\n",
    "mnist = fetch_openml('mnist_784', version=1, parser='auto', as_frame=False)\n",
    "X, y = mnist[\"data\"], mnist[\"target\"]\n",
    "\n",
    "y = y.astype(np.uint8)\n",
    "\n",
    "plt.hist(y, bins=range(11), align='left', rwidth=0.8)\n",
    "plt.xlabel('Class')\n",
    "plt.ylabel('Frequency')\n",
    "plt.title('Histogram of Class Distribution')\n",
    "plt.xticks(range(10))\n",
    "plt.show()"
   ]
  },
  {
   "cell_type": "markdown",
   "metadata": {},
   "source": [
    "**Your written answer**: The dataset is very balanced. Each number is represented fairly the same with a frequency of roughly 6050 - 8000. This suggests that there is sufficient amount of data for each number class to train a classifier effectively. "
   ]
  },
  {
   "cell_type": "code",
   "execution_count": 14,
   "metadata": {},
   "outputs": [
    {
     "name": "stdout",
     "output_type": "stream",
     "text": [
      "Balanced Accuracy Score: 0.8664609338058759\n"
     ]
    }
   ],
   "source": [
    "X_train, X_test, y_train, y_test = train_test_split(X, y, test_size=0.5, random_state=seed)\n",
    "\n",
    "sgd_clf = SGDClassifier(penalty='l2',max_iter=2000, tol=1e-3, random_state=seed, n_jobs=-1)\n",
    "sgd_clf.fit(X_train, y_train)\n",
    "\n",
    "#predicting y values\n",
    "y_pred = sgd_clf.predict(X_test)\n",
    "\n",
    "\n",
    "#calculating balanced accuracy score\n",
    "balanced_accuracy = balanced_accuracy_score(y_test, y_pred)\n",
    "print(\"Balanced Accuracy Score:\", balanced_accuracy)"
   ]
  }
 ],
 "metadata": {
  "kernelspec": {
   "display_name": "Python 3 (ipykernel)",
   "language": "python",
   "name": "python3"
  },
  "language_info": {
   "codemirror_mode": {
    "name": "ipython",
    "version": 3
   },
   "file_extension": ".py",
   "mimetype": "text/x-python",
   "name": "python",
   "nbconvert_exporter": "python",
   "pygments_lexer": "ipython3",
   "version": "3.11.7"
  },
  "vscode": {
   "interpreter": {
    "hash": "fd9fd915db2e029ec70cf1bf836846dad4f7aef8f0bedb39edb03932a58b544f"
   }
  }
 },
 "nbformat": 4,
 "nbformat_minor": 4
}
